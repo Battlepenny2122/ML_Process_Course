{
 "cells": [
  {
   "attachments": {},
   "cell_type": "markdown",
   "metadata": {},
   "source": [
    "### Why Machine learning\n",
    "\n",
    "- Consistency: With lots of data, it is a reliable decision maker and will lead to consistent predictions, unlike humans\n",
    "- Ability to scale: If we were to make a recommendor system, or segment customers, or perform linear regression on multiple data points, it would take a lot of manpower todo so.\n",
    "- Efficent\n"
   ]
  },
  {
   "attachments": {},
   "cell_type": "markdown",
   "metadata": {},
   "source": [
    "We needs to have a thorough end to end process. We often use the same models for different data, so the thing that changes most is\n",
    "- Delivery of the ML solution\n",
    "    - think power points at one end\n",
    "    - think APIs, live data on the other\n",
    "\n",
    "Remember, we need to create ***business value***"
   ]
  },
  {
   "attachments": {},
   "cell_type": "markdown",
   "metadata": {},
   "source": [
    "##### Real world ML examples\n",
    "\n",
    "- Spam filters\n",
    "- Costco predicts demands with regression techniques\n",
    "- Tiktok and facebook recommendation systems\n",
    "\n",
    "\n"
   ]
  },
  {
   "attachments": {},
   "cell_type": "markdown",
   "metadata": {},
   "source": [
    "#### When to apply ML?\n",
    "- Many organisations won't need it\n",
    "    - Collect data: We need to collect data in order to even have KPIs in the first place\n",
    "        - we can do this with logging and basic modelling\n",
    "    - Cleaning data: create ETL to transform data into a readable table\n",
    "        - often with DE or analytical engineers\n",
    "    - Define KPIs and track them\n",
    "    - Analyse KPIs and Gain insgihts: e.g. EDA. \n",
    "        - Once we get directional insights, then we can consider ML\n",
    "    - Finally, we want to improve and optimise predictions with ML.\n",
    "\n",
    "<img src='analytical_hierarchy_of_needs.png' alt='image' width='600' height='400'>\n",
    "\n",
    "\n",
    "- Since ML is so late in the analytical pyramid of needs, when do we need it?\n",
    "    - Lots of data (generally more than 50k rows)\n",
    "    - time consuming problem\n",
    "    - expensive to solve for humans\n",
    "    - Generally speaking, you want to have a good rule of thumb initially which will help guide most of the learning, but if you need to add more complexity to the rule to gain that last edge, ML is a a fantastic idea."
   ]
  },
  {
   "attachments": {},
   "cell_type": "markdown",
   "metadata": {},
   "source": [
    "#### When to NOT use ML\n",
    "- Lack of data\n",
    "    - Dependent on problem, and how much production is needed to scale\n",
    "- Time Constrains\n",
    "- Have not tried a simple solution:\n",
    "    - Ockham's Razor: It is better to use a simple solution over a complex solution if they leaad to similar value because a complex solution has many areas where it can go wrong\n"
   ]
  },
  {
   "attachments": {},
   "cell_type": "markdown",
   "metadata": {},
   "source": [
    "https://eugeneyan.com/writing/first-rule-of-ml/\n",
    "\n",
    "##### ***Summary of above***\n",
    "\n",
    "The first rule of ML is to start without ML\n",
    "- Machine learning is great, but requires data. Often basic rules and heuristiscs will do\n",
    "- by trying to solve the problem without ML, you can get a better understanding of the data, or you can get a better idea of the domain naturally\n",
    "- What do I mean solve the problem manually?\n",
    "    - instead of using a k means algorithm, why not try to just use an if-else statement to classify the data?\n",
    "    - use basic heauristics or rules to predict outcomes!\n",
    "\n",
    "**What should we use instead of ML then?**\n",
    "Before doing an ML, we do an EDA to find any correlations or relationships int he data. Use plots and summary statistics to do so!\n",
    "- think scatter plots, .describe() etc\n",
    "- Use **simple correlations** to figure out relationships\n",
    "    - select a subset of features with the strongest relationships to visualise."
   ]
  },
  {
   "attachments": {},
   "cell_type": "markdown",
   "metadata": {},
   "source": [
    "#### Real life ML process?\n",
    "\n",
    "<img src='ml%20process%201.png' alt='image' width='600' height='400'>\n",
    "<p>\n",
    "<img src='ml%20process%202.png' alt='image' width='600' height='400'>\n",
    "</p>\n",
    "\n"
   ]
  },
  {
   "attachments": {},
   "cell_type": "markdown",
   "metadata": {},
   "source": [
    "Summary of above:\n",
    "- You get an email from an executive who has a vision that he can improve some form of KPI with ML\n",
    "- You have a healthy level of skepticism, so you decide to liaise with the product manager to ask more questions\n",
    "    - What are you doing currently?\n",
    "    - How are the KPIs at the moment?\n",
    "    - Is there anything glaring that you see at the moment?\n",
    "- You look at the data and do an EDA to see what's going on in the data\n",
    "    - correlation matrices, relationships in the variables\n",
    "- You set up a project plan\n",
    "- you take amonth to make a model, and test it so that it's the winning model\n",
    "- you work with an MLE to create an API to make predictions question\n",
    "- Reevaluate your performence with an A/B test"
   ]
  },
  {
   "attachments": {},
   "cell_type": "markdown",
   "metadata": {},
   "source": [
    "<img src='supervised%20and%20unsupervised%20learning.png' alt='image' width='600' height='400'>"
   ]
  },
  {
   "attachments": {},
   "cell_type": "markdown",
   "metadata": {},
   "source": [
    "#### Regression and classification models\n",
    "\n",
    "Regression models:\n",
    "- aim to predict continuous variables\n",
    "    - e.g. Customer lifetime value\n",
    "    - forecasting revenue of a company\n",
    "    - Sales\n",
    "    - Inventory levels\n",
    "- real world examples:\n",
    "    - eta on rides of ubers or google maps\n",
    "    - predict values of homes on airbnb\n",
    "    - predict value of ad requests on twitter\n",
    "\n",
    "Classification problems:\n",
    "- Aim to predict a **categorical** value\n",
    "    - whether or not a person churns\n",
    "    - user retention\n",
    "    - email sent/ open/ clickthru rate\n",
    "- Real world examples:\n",
    "    - predicting advertiser churn on google adwords\n",
    "    "
   ]
  },
  {
   "attachments": {},
   "cell_type": "markdown",
   "metadata": {},
   "source": [
    "### **ML for product analytics**\n",
    "\n",
    "Typical process\n",
    "1. Data preprocessing\n",
    "    - null values, duplicate values, missing values\n",
    "    - outliers\n",
    "2. EDA\n",
    "3. Feature engineering\n",
    "4. Modeling\n",
    "5. Hypothesis/insights generation\n",
    "    - often for the hypothesis we need to be able to run an A/B test, which will therefore allow us to see if there is a statistical difference. \n",
    "\n",
    "We use ML for product analytics to see if something workedbetter than another, \n",
    "\n",
    "The goal is to land a positive impact on a product by influencing a product decision. Working backwards from this goal....\n",
    "- What can we actually change in the product?\n",
    "    - what can we choose and how can we decide which option to choose?\n",
    "    - Should we even decide to change this thing about a product?\n",
    "- What information is relevant to make that decision?\n",
    "    - what isn't relevant to the decision?\n",
    "- Then, follow the typical process above"
   ]
  },
  {
   "attachments": {},
   "cell_type": "markdown",
   "metadata": {},
   "source": [
    "### **ML for data products**\n",
    "\n",
    "ML as a data product needs to be accurate, as you need it to forecast future events. This can be:\n",
    "- recommendor systems\n",
    "- Clustering algorithms\n",
    "- forecasting models\n",
    "\n",
    "Typical process:\n",
    "1. Problem framing\n",
    "2. Data collection\n",
    "3. Data preprocessing\n",
    "4. EDA\n",
    "5. Feature engineering\n",
    "6. Cross-Validation\n",
    "7. Model\n",
    "8. Model\n",
    "9. Productionisation\n",
    "\n",
    "The below subtitles explain each step in the process"
   ]
  },
  {
   "attachments": {},
   "cell_type": "markdown",
   "metadata": {},
   "source": [
    "#### 1. Problem framing\n",
    "\n",
    "Defining the problem:\n",
    "- There are 2 types of problem statements: vague and defined\n",
    "    - our goal is to turn a vague problem into a defined problem\n",
    "    - e.g. vague would be like: How do we drive more revenue? How do you improve our stock?\n",
    "    - Defined would be like: A bug is causing an error in our pipeline, how do we fix this? We need to order more xxx because of yyy\n",
    "\n",
    "\n",
    "Understanding the problem:\n",
    "- How do we achieve the goal above? asking questions!\n",
    "\n",
    "1. Who is the end user?\n",
    "2. What is the problem we are trying to solve?\n",
    "3. What impact would you like with this project?\n",
    "4. How urgent is this project?\n",
    "5. Scale, constraints, dependencies?\n",
    "\n",
    "How to answer the above questions?\n",
    "- Interviewing subject matter experts\n",
    "- Reading documents\n",
    "- light exploratory analysis.\n",
    "\n",
    "What is a quality problem statement?\n",
    "- Needs to be **quantitative, specific, user-focused, and have constraints**\n",
    "\n",
    "e.g.\n",
    "\n",
    "<img src='problem statement.png' alt='image' width='600' height='300'>"
   ]
  },
  {
   "attachments": {},
   "cell_type": "markdown",
   "metadata": {},
   "source": [
    "#### Calculating business value of the project\n",
    "\n",
    "By analysing the value of the porject, we can determine how accurate a model needs to be, and what the business goal is.\n",
    "\n",
    "Generally speaking, PROFIT is the main goal\n",
    "\n",
    "profit = revenue - cost\n",
    "(Mature companies go for profit, startups go for revenue growth)\n",
    "\n",
    "\n",
    "**So how do we calculate the value the model will drive?**\n",
    "\n",
    "For example:\n",
    "- On a website, an item costs 10$ per item, and on average it sells 1000 items per day\n",
    "- The new model is expected to improve product recommendation accuracy to 60% from 50%\n",
    "    - this is a 60-50/60 increase (17% increase) in accuracy, which means that there should be a 170 increase in items sold\n"
   ]
  },
  {
   "attachments": {},
   "cell_type": "markdown",
   "metadata": {},
   "source": [
    "#### Mapping solutions\n",
    "\n",
    "Once we have defined the problems, and valide the business value...\n",
    "\n",
    "- Have 3-4 solutions and determine the pros and cons\n",
    "\n",
    "1. What type of algorithms to use to get the best outcomes?\n",
    "2. Is this a supervised or unsupervised approach?\n",
    "3. Should we be using classification or regression to get the best results?\n",
    "4. What are the pros and cons of each solution?\n",
    "5. What is effort vs level of impact ratio?\n",
    "\n",
    "Sidenote: Don't take too long to map and decide the pros and cons, because once you try one, it'll help to determine which solution plan you want!"
   ]
  },
  {
   "attachments": {},
   "cell_type": "markdown",
   "metadata": {},
   "source": []
  }
 ],
 "metadata": {
  "language_info": {
   "name": "python"
  },
  "orig_nbformat": 4
 },
 "nbformat": 4,
 "nbformat_minor": 2
}
