{
 "cells": [
  {
   "attachments": {},
   "cell_type": "markdown",
   "metadata": {},
   "source": [
    "### Data collection\n",
    "\n",
    "Often collected from\n",
    "- Databases\n",
    "- APIs\n",
    "- Web scraping\n",
    "    - using beautiful soup\n",
    "    https://towardsdatascience.com/web-scraping-basics-82f8b5acd45c\n",
    "- Online data capture like google analytics\n",
    "- surveys\n"
   ]
  },
  {
   "attachments": {},
   "cell_type": "markdown",
   "metadata": {},
   "source": []
  }
 ],
 "metadata": {
  "kernelspec": {
   "display_name": "minimal_ds",
   "language": "python",
   "name": "python3"
  },
  "language_info": {
   "name": "python",
   "version": "3.10.9"
  },
  "orig_nbformat": 4
 },
 "nbformat": 4,
 "nbformat_minor": 2
}
